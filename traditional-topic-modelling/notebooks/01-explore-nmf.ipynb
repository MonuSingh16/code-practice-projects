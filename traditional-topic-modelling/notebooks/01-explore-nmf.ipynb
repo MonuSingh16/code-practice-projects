{
 "cells": [
  {
   "cell_type": "code",
   "execution_count": 1,
   "id": "c8bd5ee9",
   "metadata": {},
   "outputs": [
    {
     "name": "stdout",
     "output_type": "stream",
     "text": [
      "Orignal Matrix V: \n",
      " [[1 0 0 1 0 0]\n",
      " [0 1 0 1 1 0]\n",
      " [0 0 1 1 0 1]]\n",
      "\n",
      "Matrix W (Document-Component matrix):\n",
      " [[0.00000000e+00 1.01271248e+00]\n",
      " [1.39363280e+00 2.19581252e-04]\n",
      " [1.39410467e+00 0.00000000e+00]]\n",
      "\n",
      "Matrix H (Component-Term matrix):\n",
      " [[0.00000000e+00 3.58653097e-01 3.58774543e-01 7.17349885e-01\n",
      "  3.58653097e-01 3.58774543e-01]\n",
      " [9.87447056e-01 1.07087784e-04 0.00000000e+00 9.87447115e-01\n",
      "  1.07087784e-04 0.00000000e+00]]\n",
      "Reconstructed V Matrix: \n",
      " [[9.99999953e-01 1.08449135e-04 0.00000000e+00 1.00000001e+00\n",
      "  1.08449135e-04 0.00000000e+00]\n",
      " [2.16824861e-04 4.99830743e-01 4.99999971e-01 9.99939154e-01\n",
      "  4.99830743e-01 4.99999971e-01]\n",
      " [0.00000000e+00 4.99999957e-01 5.00169266e-01 1.00006082e+00\n",
      "  4.99999957e-01 5.00169266e-01]]\n"
     ]
    }
   ],
   "source": [
    "import pandas as pd\n",
    "import numpy as np\n",
    "from sklearn.decomposition import NMF\n",
    "\n",
    "# Sample non-negative matrix\n",
    "V = np.array([[1, 0, 0, 1, 0, 0],\n",
    "              [0, 1, 0, 1, 1, 0],\n",
    "              [0, 0, 1, 1, 0, 1]\n",
    "              ])\n",
    "print(\"Orignal Matrix V: \\n\", V)\n",
    "\n",
    "# We set n_components to 2, meaning we want to find a factorization with a rank of 2.\n",
    "# We create an NMF object. \n",
    "# The init='random' parameter tells the algorithm to initialize W and H with random non-negative values. \n",
    "# Random_state=0 is used for reproducibility.\n",
    "\n",
    "n_components = 2\n",
    "model = NMF(n_components=n_components, init='random', random_state=42)\n",
    "W = model.fit_transform(V)\n",
    "H = model.components_\n",
    "\n",
    "print(\"\\nMatrix W (Document-Component matrix):\\n\", W)\n",
    "print(\"\\nMatrix H (Component-Term matrix):\\n\", H)\n",
    "\n",
    "V_constructed = np.dot(W, H)\n",
    "print('Reconstructed V Matrix: \\n', V_constructed)"
   ]
  },
  {
   "cell_type": "code",
   "execution_count": 15,
   "id": "24f7554e",
   "metadata": {},
   "outputs": [],
   "source": [
    "from IPython.display import HTML, display\n",
    "import numpy.linalg as LA"
   ]
  },
  {
   "cell_type": "code",
   "execution_count": 16,
   "id": "cfa088ed",
   "metadata": {},
   "outputs": [],
   "source": [
    "def simple_doc_processor(doc_list, words_to_remove):\n",
    "    '''\n",
    "    \n",
    "    '''\n",
    "    processed_docs = [] #empty list\n",
    "    for doc in doc_list:\n",
    "        words = doc.split(\" \") # get words\n",
    "        words = [word.lower() for word in words] # lowercase\n",
    "        words = [word for word in words if word not in words_to_remove] #membership test\n",
    "        processed_docs.append(words) # append as a list of words\n",
    "\n",
    "    vocab = [j for i in processed_docs for j in i]\n",
    "    unique_vocab = list(set(vocab))\n",
    "\n",
    "    doc_vocabindex_list = []\n",
    "    for doc in processed_docs:\n",
    "        numeric_doc = [0] * len(unique_vocab)\n",
    "        for word in doc:\n",
    "            numeric_doc[unique_vocab.index(word)] = 1\n",
    "        doc_vocabindex_list.append(numeric_doc)\n",
    "    doc_word_matrix = np.array(doc_vocabindex_list)\n",
    "\n",
    "    return (doc_word_matrix, unique_vocab)   \n"
   ]
  },
  {
   "cell_type": "code",
   "execution_count": 17,
   "id": "fbec41f4",
   "metadata": {},
   "outputs": [
    {
     "data": {
      "text/plain": [
       "array([[0, 0, 1, 0, 1, 0, 1, 0, 0],\n",
       "       [1, 0, 1, 0, 0, 0, 1, 0, 1],\n",
       "       [0, 1, 0, 1, 0, 0, 0, 0, 0],\n",
       "       [0, 1, 0, 1, 0, 1, 0, 1, 0],\n",
       "       [0, 0, 1, 1, 0, 0, 1, 0, 0],\n",
       "       [1, 1, 0, 1, 0, 0, 0, 0, 1]])"
      ]
     },
     "execution_count": 17,
     "metadata": {},
     "output_type": "execute_result"
    }
   ],
   "source": [
    "documents = [\n",
    "             \"I use statistics in Data Science\",\n",
    "             \"I use linear algebra in Data Science\",\n",
    "             \"I program in python\",\n",
    "             \"Python is a great language to program with\",\n",
    "             'I use python for Data Science',\n",
    "             \"I program linear algebra in python\"\n",
    "]\n",
    "words_to_remove = ['i', 'use', 'in', 'is', 'a', 'for', 'to', 'with']\n",
    "doc_word_matrix, unique_vocab = simple_doc_processor(documents, words_to_remove)\n",
    "doc_word_matrix"
   ]
  },
  {
   "cell_type": "code",
   "execution_count": null,
   "id": "fae8aa68",
   "metadata": {},
   "outputs": [],
   "source": [
    "## THE NMF CLASS\n",
    "\n",
    "class NMF():\n",
    "    def __init__(self, A, no_topics=2,  **kwargs):\n",
    "        self.A = A #input doc-term matrix\n",
    "        self.no_topics = no_topics # no of topics pre-decided\n",
    "        self._no_documnets , self._no_words = self.A.shape # it would be (m, n)\n",
    "        self._epsilon = 2**-8 # small epsilon\n",
    "\n",
    "    def calc_reconstruction_error(self):\n",
    "        \"\"\"\n",
    "        \"\"\"\n",
    "        if hasattr(self, 'H') and hasattr(self, 'W'):\n",
    "            error = LA.norm(self.A - np.dot(self.W, self.H))\n",
    "        else:\n",
    "            error = None\n",
    "        \n",
    "        return error\n",
    "    \n",
    "    def randomize_wh(self):\n",
    "        \"\"\"\n",
    "        \"\"\"\n",
    "        self.W = np.random.random((self._no_documnets, self.no_topics))\n",
    "        self.H = np.random.random((self.no_topics, self._no_words))\n",
    "    \n",
    "    def update_h(self):\n",
    "        # H = H .* (W'A) ./(W'WH + epsilon)\n",
    "        AtW = np.dot(self.W.T, self.A)\n",
    "        HWtW = np.dot(self.W.T.dot(self.W), self.H) + self._epsilon\n",
    "        self.H *= AtW\n",
    "        self.H /= HWtW\n",
    "\n",
    "    def update_w(self):\n",
    "        # W = W .* (AH') ./ (WHH' + epsilon) \n",
    "        AH = self.A.dot(self.H.T)\n",
    "        WHtH = self.W.dot(self.H.dot(self.H.T)) + self._epsilon\n",
    "        self.W *= AH\n",
    "        self.W /= WHtH\n",
    "    \n",
    "    def perform_factorization(self, max_iter=100, tolerance=0.01):\n",
    "\n",
    "        self.randomize_wh() # random initialization of w and h\n",
    "        self.reconstruction_error = np.zeros(max_iter) # array of zero error\n",
    "        self.reconstruction_error[0] = self.calc_reconstruction_error() # first error\n",
    "        previous_error = self.reconstruction_error[0]\n",
    "\n",
    "        num_of_iter = 0\n",
    "\n",
    "        for i in range(1, max_iter): # from i = 1 to 99\n",
    "            num_of_iter = i\n",
    "            self.update_w()\n",
    "            self.update_h()\n",
    "            self.reconstruction_error[i] = self.calc_reconstruction_error()\n",
    "            \n",
    "            # relative change in error between iterations, normalized by the initial error.\n",
    "            if (previous_error - self.reconstruction_error[i]) /self.reconstruction_error[0] < tolerance:\n",
    "                break\n",
    "            previous_error = self.reconstruction_error[i]\n",
    "\n",
    "        return (self.W, self.H, self.reconstruction_error, num_of_iter)\n",
    "\n",
    "\n",
    "max_iter = 100\n",
    "nmf = NMF(doc_word_matrix, no_topics=2)\n",
    "W, H, reconstruction_error, number_of_iterations = nmf.perform_factorization(max_iter)\n"
   ]
  },
  {
   "cell_type": "code",
   "execution_count": 24,
   "id": "7f5ea093",
   "metadata": {},
   "outputs": [
    {
     "data": {
      "image/png": "[encoded data removed]",
      "text/plain": [
       "<Figure size 1200x700 with 1 Axes>"
      ]
     },
     "metadata": {},
     "output_type": "display_data"
    }
   ],
   "source": [
    "import matplotlib.pyplot as plt\n",
    "\n",
    "plt.figure(figsize=(12,7))\n",
    "plt.plot(range(number_of_iterations), reconstruction_error[0:number_of_iterations])  \n",
    "\n",
    "plt.xlabel(\"Number of Iterations\")\n",
    "plt.ylabel(\"Reconstruction Error\")\n",
    "plt.title(\"Convergence of NMF\")\n",
    "\n",
    "plt.show()"
   ]
  },
  {
   "cell_type": "code",
   "execution_count": null,
   "id": "ec5d0d3b",
   "metadata": {},
   "outputs": [],
   "source": []
  }
 ],
 "metadata": {
  "kernelspec": {
   "display_name": ".venv",
   "language": "python",
   "name": "python3"
  },
  "language_info": {
   "codemirror_mode": {
    "name": "ipython",
    "version": 3
   },
   "file_extension": ".py",
   "mimetype": "text/x-python",
   "name": "python",
   "nbconvert_exporter": "python",
   "pygments_lexer": "ipython3",
   "version": "3.12.0"
  }
 },
 "nbformat": 4,
 "nbformat_minor": 5
}
