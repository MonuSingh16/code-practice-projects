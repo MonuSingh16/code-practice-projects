{
 "cells": [
  {
   "cell_type": "code",
   "execution_count": 4,
   "id": "59e58848",
   "metadata": {},
   "outputs": [],
   "source": [
    "import pandas as pd\n",
    "import numpy as np\n",
    "from sklearn.decomposition import NMF"
   ]
  },
  {
   "cell_type": "code",
   "execution_count": 5,
   "id": "c8bd5ee9",
   "metadata": {},
   "outputs": [
    {
     "name": "stdout",
     "output_type": "stream",
     "text": [
      "Orignal Matrix V: \n",
      " [[1 0 0 1 0 0]\n",
      " [0 1 0 1 1 0]\n",
      " [0 0 1 1 0 1]]\n"
     ]
    }
   ],
   "source": [
    "# Sample non-negative matrix\n",
    "V = np.array([[1, 0, 0, 1, 0, 0],\n",
    "              [0, 1, 0, 1, 1, 0],\n",
    "              [0, 0, 1, 1, 0, 1]\n",
    "              ])\n",
    "print(\"Orignal Matrix V: \\n\", V)"
   ]
  },
  {
   "cell_type": "code",
   "execution_count": 7,
   "id": "02838e73",
   "metadata": {},
   "outputs": [
    {
     "name": "stdout",
     "output_type": "stream",
     "text": [
      "\n",
      "Matrix W (Document-Component matrix):\n",
      " [[0.00000000e+00 1.01271248e+00]\n",
      " [1.39363280e+00 2.19581252e-04]\n",
      " [1.39410467e+00 0.00000000e+00]]\n",
      "\n",
      "Matrix H (Component-Term matrix):\n",
      " [[0.00000000e+00 3.58653097e-01 3.58774543e-01 7.17349885e-01\n",
      "  3.58653097e-01 3.58774543e-01]\n",
      " [9.87447056e-01 1.07087784e-04 0.00000000e+00 9.87447115e-01\n",
      "  1.07087784e-04 0.00000000e+00]]\n",
      "Reconstructed V Matrix: \n",
      " [[9.99999953e-01 1.08449135e-04 0.00000000e+00 1.00000001e+00\n",
      "  1.08449135e-04 0.00000000e+00]\n",
      " [2.16824861e-04 4.99830743e-01 4.99999971e-01 9.99939154e-01\n",
      "  4.99830743e-01 4.99999971e-01]\n",
      " [0.00000000e+00 4.99999957e-01 5.00169266e-01 1.00006082e+00\n",
      "  4.99999957e-01 5.00169266e-01]]\n"
     ]
    }
   ],
   "source": [
    "# We set n_components to 2, meaning we want to find a factorization with a rank of 2.\n",
    "# We create an NMF object. \n",
    "# The init='random' parameter tells the algorithm to initialize W and H with random non-negative values. \n",
    "# Random_state=0 is used for reproducibility.\n",
    "\n",
    "n_components = 2\n",
    "model = NMF(n_components=n_components, init='random', random_state=42)\n",
    "W = model.fit_transform(V)\n",
    "H = model.components_\n",
    "\n",
    "print(\"\\nMatrix W (Document-Component matrix):\\n\", W)\n",
    "print(\"\\nMatrix H (Component-Term matrix):\\n\", H)\n",
    "\n",
    "V_constructed = np.dot(W, H)\n",
    "print('Reconstructed V Matrix: \\n', V_constructed)"
   ]
  },
  {
   "cell_type": "code",
   "execution_count": null,
   "id": "1be29e3c",
   "metadata": {},
   "outputs": [
    {
     "data": {
      "text/plain": [
       "array([[0.38171419, 0.95867122, 0.36545576, 0.92864867, 0.18530055],\n",
       "       [0.53946039, 0.74051724, 0.23183566, 0.78153311, 0.50958433],\n",
       "       [0.0971198 , 0.33266287, 0.30153062, 0.54594536, 0.90045422],\n",
       "       [0.42065857, 0.14569788, 0.61972919, 0.59936271, 0.0145109 ]])"
      ]
     },
     "execution_count": 30,
     "metadata": {},
     "output_type": "execute_result"
    }
   ],
   "source": [
    "np.random.random((4, 5)) # so a random intializaed matrix of shape 4 * 5\n",
    " "
   ]
  },
  {
   "cell_type": "code",
   "execution_count": null,
   "id": "24f7554e",
   "metadata": {},
   "outputs": [],
   "source": []
  }
 ],
 "metadata": {
  "kernelspec": {
   "display_name": ".venv",
   "language": "python",
   "name": "python3"
  },
  "language_info": {
   "codemirror_mode": {
    "name": "ipython",
    "version": 3
   },
   "file_extension": ".py",
   "mimetype": "text/x-python",
   "name": "python",
   "nbconvert_exporter": "python",
   "pygments_lexer": "ipython3",
   "version": "3.12.0"
  }
 },
 "nbformat": 4,
 "nbformat_minor": 5
}
