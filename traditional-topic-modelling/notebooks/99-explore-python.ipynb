{
 "cells": [
  {
   "cell_type": "markdown",
   "id": "94897612",
   "metadata": {},
   "source": [
    "#### T1.  `hasattr()`\n",
    "\n",
    "In Python, everything is an object, and objects can have:\n",
    "\n",
    "- Attributes (variables)\n",
    "- Methods (functions)\n",
    "- Properties\n",
    "\n",
    "`hasattr()` uses the `getattr()` function internally\n",
    "- It attempts to retrieve the attribute\n",
    "- Catches any AttributeError that occurs\n",
    "- Returns True/False based on success/failure"
   ]
  },
  {
   "cell_type": "code",
   "execution_count": null,
   "id": "f1e7953a",
   "metadata": {},
   "outputs": [
    {
     "name": "stdout",
     "output_type": "stream",
     "text": [
      "John\n"
     ]
    }
   ],
   "source": [
    "## Basic Usgae:\n",
    "class Person:\n",
    "    def __init__(self, name):\n",
    "        self.name = name\n",
    "\n",
    "#check if attribute exists:\n",
    "person = Person(\"John\")\n",
    "if hasattr(person, 'name'):\n",
    "    print(person.name) #safe access\n",
    "else:\n",
    "    print(\"Name not found\")\n",
    "\n",
    "## Intermediate Level\n",
    "class UserProfile:\n",
    "    def __init__(self):\n",
    "        self.username = None\n",
    "        self.email = None\n",
    "    \n",
    "    def is_complete(self):\n",
    "        required_fields = ['username', 'email']\n",
    "        return all(hasattr(self, field) for field in required_fields)\n",
    "    \n",
    "    def validate(self):\n",
    "        if not self.is_complete():\n",
    "            raise ValueError(\"Profile incompleted\")"
   ]
  },
  {
   "cell_type": "code",
   "execution_count": 3,
   "id": "65aef2ba",
   "metadata": {},
   "outputs": [
    {
     "name": "stdout",
     "output_type": "stream",
     "text": [
      "Missing required fields\n"
     ]
    }
   ],
   "source": [
    "class User:\n",
    "    def __init__(self, **kwargs):\n",
    "        self.required_fields = ['username', 'email']\n",
    "        for key, value in kwargs.items():\n",
    "            setattr(self, key, value)\n",
    "\n",
    "    def is_valid(self):\n",
    "        missing = [\n",
    "            field for field in self.required_fields\n",
    "            if not hasattr(self, field) or getattr(self, field) is None\n",
    "        ]\n",
    "        return len(missing) == 0\n",
    "\n",
    "# Usage\n",
    "user = User(username=\"john_doe\")\n",
    "if not user.is_valid():\n",
    "    print(\"Missing required fields\")"
   ]
  },
  {
   "cell_type": "code",
   "execution_count": 6,
   "id": "2373448f",
   "metadata": {},
   "outputs": [],
   "source": [
    "class FlaskPlugin:\n",
    "    def __init__(self):\n",
    "        self.required_hooks = ['before_request', 'after_request']\n",
    "\n",
    "    def validate_plugin(self, plugin):\n",
    "        missing_hooks = [\n",
    "            hook for hook in self.required_hooks\n",
    "            if not hasattr(plugin, hook)\n",
    "        ]\n",
    "        if missing_hooks:\n",
    "            raise ValueError(f\"Plugin missing required hooks: {missing_hooks}\")\n",
    "\n",
    "# Usage\n",
    "class AuthenticationPlugin:\n",
    "    def before_request(self):\n",
    "        print(\"Authenticating request\")\n",
    "\n",
    "    def after_request(self):\n",
    "        print(\"Logging request\")\n",
    "\n",
    "plugin_manager = FlaskPlugin()\n",
    "plugin_manager.validate_plugin(AuthenticationPlugin())"
   ]
  },
  {
   "cell_type": "code",
   "execution_count": null,
   "id": "0971be0e",
   "metadata": {},
   "outputs": [],
   "source": [
    "class MiddlewareChain:\n",
    "    def __init__(self):\n",
    "        self.middlewares = []\n",
    "\n",
    "    def add_middleware(self, middleware):\n",
    "        required_methods = ['process_request', 'process_response']\n",
    "        \n",
    "        for method in required_methods:\n",
    "            if not hasattr(middleware, method):\n",
    "                raise ValueError(\n",
    "                    f\"Middleware must implement {method}\"\n",
    "                )\n",
    "        \n",
    "        self.middlewares.append(middleware)\n",
    "\n",
    "# Usage\n",
    "class LoggingMiddleware:\n",
    "    def process_request(self, request):\n",
    "        print(f\"Processing request: {request}\")\n",
    "    \n",
    "    def process_response(self, response):\n",
    "        print(f\"Processing response: {response}\")\n",
    "\n",
    "chain = MiddlewareChain()\n",
    "chain.add_middleware(LoggingMiddleware())"
   ]
  },
  {
   "cell_type": "code",
   "execution_count": null,
   "id": "b958f685",
   "metadata": {},
   "outputs": [],
   "source": []
  }
 ],
 "metadata": {
  "kernelspec": {
   "display_name": ".venv",
   "language": "python",
   "name": "python3"
  },
  "language_info": {
   "codemirror_mode": {
    "name": "ipython",
    "version": 3
   },
   "file_extension": ".py",
   "mimetype": "text/x-python",
   "name": "python",
   "nbconvert_exporter": "python",
   "pygments_lexer": "ipython3",
   "version": "3.12.0"
  }
 },
 "nbformat": 4,
 "nbformat_minor": 5
}
